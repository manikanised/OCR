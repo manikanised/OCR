{
  "nbformat": 4,
  "nbformat_minor": 0,
  "metadata": {
    "colab": {
      "name": "OWR Model.ipynb",
      "provenance": []
    },
    "kernelspec": {
      "name": "python3",
      "display_name": "Python 3"
    },
    "language_info": {
      "name": "python"
    },
    "accelerator": "GPU"
  },
  "cells": [
    {
      "cell_type": "code",
      "metadata": {
        "id": "00bxDeQXUHXh"
      },
      "source": [
        "import cv2\n",
        "import numpy as np\n",
        "import matplotlib.pyplot as plt\n",
        "%matplotlib inline\n",
        "import random\n",
        "from google.colab.patches import cv2_imshow as imshow"
      ],
      "execution_count": 1,
      "outputs": []
    },
    {
      "cell_type": "code",
      "metadata": {
        "colab": {
          "base_uri": "https://localhost:8080/"
        },
        "id": "uCbFEtg7cHXX",
        "outputId": "f63bedad-8a00-4cf5-c4df-c7cca7905efb"
      },
      "source": [
        "#create a folder to store data\n",
        "!mkdir sample_data/IAM\n",
        "!mkdir sample_data/IAM/words\n",
        "# copy the zip files that has data to this folder now\n",
        "!cp -nav \"/content/drive/My Drive/IAM word/words.tgz\" \"/content/sample_data/IAM\""
      ],
      "execution_count": 2,
      "outputs": [
        {
          "output_type": "stream",
          "name": "stdout",
          "text": [
            "'/content/drive/My Drive/IAM word/words.tgz' -> '/content/sample_data/IAM/words.tgz'\n"
          ]
        }
      ]
    },
    {
      "cell_type": "code",
      "metadata": {
        "id": "3tUmuHewcMkb"
      },
      "source": [
        "# now unzip all the zips\n",
        "!tar -xzvf \"/content/sample_data/IAM/words.tgz\" -C \"/content/sample_data/IAM/words/\""
      ],
      "execution_count": null,
      "outputs": []
    },
    {
      "cell_type": "code",
      "metadata": {
        "colab": {
          "base_uri": "https://localhost:8080/"
        },
        "id": "ZnYdHLP0eG0u",
        "outputId": "aadeeaf5-28d7-44f8-bbec-af3f75c1443a"
      },
      "source": [
        "# copy the ground truth texts file\n",
        "!cp -navr \"/content/drive/My Drive/IAM word/words.txt\" \"/content/sample_data/IAM/\""
      ],
      "execution_count": 4,
      "outputs": [
        {
          "output_type": "stream",
          "name": "stdout",
          "text": [
            "'/content/drive/My Drive/IAM word/words.txt' -> '/content/sample_data/IAM/words.txt'\n"
          ]
        }
      ]
    },
    {
      "cell_type": "code",
      "metadata": {
        "id": "yMaRBg6beScx"
      },
      "source": [
        "data_location = '/content/sample_data/IAM/words'\n",
        "words_txt_location = '/content/sample_data/IAM/words.txt'"
      ],
      "execution_count": 5,
      "outputs": []
    },
    {
      "cell_type": "code",
      "metadata": {
        "colab": {
          "base_uri": "https://localhost:8080/"
        },
        "id": "iUqPHxKTegPk",
        "outputId": "3bc65019-21b4-46b7-dcd5-934dbf806f57"
      },
      "source": [
        "!cp -navr \"/content/drive/My Drive/IAM word/train_files.txt\" \"/content/sample_data/IAM/\"\n",
        "!cp -navr \"/content/drive/My Drive/IAM word/valid_files.txt\" \"/content/sample_data/IAM/\""
      ],
      "execution_count": 6,
      "outputs": [
        {
          "output_type": "stream",
          "name": "stdout",
          "text": [
            "'/content/drive/My Drive/IAM word/train_files.txt' -> '/content/sample_data/IAM/train_files.txt'\n",
            "'/content/drive/My Drive/IAM word/valid_files.txt' -> '/content/sample_data/IAM/valid_files.txt'\n"
          ]
        }
      ]
    },
    {
      "cell_type": "code",
      "metadata": {
        "id": "GAqDXdQqkju5"
      },
      "source": [
        "def get_paths_and_gts(partition_split_file):\n",
        "\n",
        "  paths_and_gts = []  \n",
        "  with open(partition_split_file) as f:\n",
        "    f=f.readlines()\n",
        "\n",
        "    for i in range(0,len(f),10):\n",
        "      line=f[i]\n",
        "      if not line or line.startswith('#'):\n",
        "                continue\n",
        "            \n",
        "      # in the text file, each line is seperated with '\\n', so `strip` first\n",
        "      # then string like 'a01-000u-00-00 ok 154 408 768 27 51 AT A' has to split to a list by spaces\n",
        "      line_split = line.strip().split(' ')\n",
        "      \n",
        "      # the first item of the list contains path information, so split that by '-'\n",
        "      directory_split = line_split[0].split('-')\n",
        "      \n",
        "      # now use all the above and concatenate to a string to make a path to an image\n",
        "      image_location = f'{data_location}/{directory_split[0]}/{directory_split[0]}-{directory_split[1]}/{line_split[0]}.png'\n",
        "      \n",
        "      # in a string like 'a01-000u-00-00 ok 154 408 768 27 51 AT A', text from 9th split is the ground truth text.\n",
        "      gt_text = ' '.join(line_split[8:])\n",
        "      \n",
        "      # ignore a sample(image and ground truth text), if the ground truth has more than 16 letters\n",
        "      if len(gt_text) > 16:\n",
        "          continue\n",
        "      \n",
        "      # now, append the image location and ground truth text of that image as a list to \n",
        "      paths_and_gts.append([image_location, gt_text])\n",
        "    \n",
        "    return paths_and_gts"
      ],
      "execution_count": 7,
      "outputs": []
    },
    {
      "cell_type": "code",
      "metadata": {
        "id": "8GVXHipwmxRo"
      },
      "source": [
        "def add_padding(img, old_w, old_h, new_w, new_h):\n",
        "    h1, h2 = int((new_h - old_h) / 2), int((new_h - old_h) / 2) + old_h\n",
        "    w1, w2 = int((new_w - old_w) / 2), int((new_w - old_w) / 2) + old_w\n",
        "    #img_pad = np.zeros([new_h, new_w, 3]) \n",
        "    img_pad = np.ones([new_h, new_w, 3]) * 255\n",
        "    img_pad[h1:h2, w1:w2, :] = img\n",
        "    return img_pad\n",
        "\n",
        "def fix_size(img, target_w, target_h):\n",
        "    h, w = img.shape[:2]\n",
        "    if w < target_w and h < target_h:\n",
        "        img = add_padding(img, w, h, target_w, target_h)\n",
        "    elif w >= target_w and h < target_h:\n",
        "        new_w = target_w\n",
        "        new_h = int(h * new_w / w)\n",
        "        new_img = cv2.resize(img, (new_w, new_h), interpolation=cv2.INTER_AREA)\n",
        "        img = add_padding(new_img, new_w, new_h, target_w, target_h)\n",
        "    elif w < target_w and h >= target_h:\n",
        "        new_h = target_h\n",
        "        new_w = int(w * new_h / h)\n",
        "        new_img = cv2.resize(img, (new_w, new_h), interpolation=cv2.INTER_AREA)\n",
        "        img = add_padding(new_img, new_w, new_h, target_w, target_h)\n",
        "    else:\n",
        "        \"\"\"w>=target_w and h>=target_h \"\"\"\n",
        "        ratio = max(w / target_w, h / target_h)\n",
        "        new_w = max(min(target_w, int(w / ratio)), 1)\n",
        "        new_h = max(min(target_h, int(h / ratio)), 1)\n",
        "        new_img = cv2.resize(img, (new_w, new_h), interpolation=cv2.INTER_AREA)\n",
        "        img = add_padding(new_img, new_w, new_h, target_w, target_h)\n",
        "    return img\n",
        "\n",
        "\n",
        "def preprocess(path, img_w, img_h):\n",
        "    \"\"\" Pre-processing image for predicting \"\"\"\n",
        "    img = cv2.imread(path)\n",
        "    img = fix_size(img, img_w, img_h)\n",
        "\n",
        "    img = np.clip(img, 0, 255)\n",
        "    img = np.uint8(img)\n",
        "    img = cv2.cvtColor(img, cv2.COLOR_BGR2GRAY)\n",
        "\n",
        "    img = img.astype(np.float32)\n",
        "    img /= 255\n",
        "    return img"
      ],
      "execution_count": 8,
      "outputs": []
    },
    {
      "cell_type": "code",
      "metadata": {
        "colab": {
          "base_uri": "https://localhost:8080/"
        },
        "id": "uz_bwL1Km9gD",
        "outputId": "e65c2fb4-debc-470e-c5cb-ce7d52339f8f"
      },
      "source": [
        "letters = [' ', '!', '\"', '#', '&', \"'\", '(', ')', '*', '+', ',', '-', '.', '/',\n",
        "           '0', '1', '2', '3', '4', '5', '6', '7', '8', '9', ':', ';', '?',\n",
        "           'A', 'B', 'C', 'D', 'E', 'F', 'G', 'H', 'I', 'J', 'K', 'L', 'M',\n",
        "           'N', 'O', 'P', 'Q', 'R', 'S', 'T', 'U', 'V', 'W', 'X', 'Y', 'Z',\n",
        "           'a', 'b', 'c', 'd', 'e', 'f', 'g', 'h', 'i', 'j', 'k', 'l', 'm',\n",
        "           'n', 'o', 'p', 'q', 'r', 's', 't', 'u', 'v', 'w', 'x', 'y', 'z']\n",
        "\n",
        "num_classes = len(letters) + 1\n",
        "print(num_classes)"
      ],
      "execution_count": 9,
      "outputs": [
        {
          "output_type": "stream",
          "name": "stdout",
          "text": [
            "80\n"
          ]
        }
      ]
    },
    {
      "cell_type": "code",
      "metadata": {
        "id": "DuLVxRa7nDrD"
      },
      "source": [
        "def text_to_labels(text):\n",
        "    return list(map(lambda x: letters.index(x), text))\n",
        "\n",
        "def labels_to_text(labels):\n",
        "    return ''.join(list(map(lambda x: letters[int(x)], labels)))"
      ],
      "execution_count": 10,
      "outputs": []
    },
    {
      "cell_type": "code",
      "metadata": {
        "colab": {
          "base_uri": "https://localhost:8080/"
        },
        "id": "3jgr90KcnL1r",
        "outputId": "16484bc6-89bd-4340-96f1-ba3a8a903d68"
      },
      "source": [
        "train_files = get_paths_and_gts('/content/sample_data/IAM/train_files.txt')\n",
        "len(train_files)"
      ],
      "execution_count": 17,
      "outputs": [
        {
          "output_type": "execute_result",
          "data": {
            "text/plain": [
              "8730"
            ]
          },
          "metadata": {},
          "execution_count": 17
        }
      ]
    },
    {
      "cell_type": "code",
      "metadata": {
        "id": "hqAV4BJ6yb-e"
      },
      "source": [
        "valid_files = get_paths_and_gts('/content/sample_data/IAM/valid_files.txt')"
      ],
      "execution_count": 18,
      "outputs": []
    },
    {
      "cell_type": "code",
      "metadata": {
        "colab": {
          "base_uri": "https://localhost:8080/",
          "height": 252
        },
        "id": "IifcD-XGoQtM",
        "outputId": "23f1d06d-af7b-48a0-d53a-83acf79050ac"
      },
      "source": [
        "#testing\n",
        "\n",
        "i = 56\n",
        "print(train_files[i][1])\n",
        "img=preprocess(path=train_files[i][0], img_w=128, img_h=64)\n",
        "plt.imshow(img)"
      ],
      "execution_count": 37,
      "outputs": [
        {
          "output_type": "stream",
          "name": "stdout",
          "text": [
            "better\n"
          ]
        },
        {
          "output_type": "execute_result",
          "data": {
            "text/plain": [
              "<matplotlib.image.AxesImage at 0x7fd6b5a05fd0>"
            ]
          },
          "metadata": {},
          "execution_count": 37
        },
        {
          "output_type": "display_data",
          "data": {
            "image/png": "[encoded data removed]",
            "text/plain": [
              "<Figure size 432x288 with 1 Axes>"
            ]
          },
          "metadata": {
            "needs_background": "light"
          }
        }
      ]
    },
    {
      "cell_type": "code",
      "metadata": {
        "id": "CgOVplq_us3I"
      },
      "source": [
        "class TextImageGenerator:\n",
        "    \n",
        "    def __init__(self, data,\n",
        "                 img_w,\n",
        "                 img_h, \n",
        "                 batch_size, \n",
        "                 i_len,\n",
        "                 max_text_len):\n",
        "        \n",
        "        self.img_h = img_h\n",
        "        self.img_w = img_w\n",
        "        self.batch_size = batch_size\n",
        "        self.max_text_len = max_text_len\n",
        "        self.samples = data\n",
        "        self.n = len(self.samples)\n",
        "        self.i_len = i_len\n",
        "        self.indexes = list(range(self.n))\n",
        "        self.cur_index = 0\n",
        "        \n",
        "    def build_data(self):\n",
        "        self.imgs = np.zeros((self.n, self.img_h, self.img_w))\n",
        "        self.texts = []\n",
        "        for i, (img_filepath, text) in enumerate(self.samples):\n",
        "            img = preprocess(img_filepath, self.img_w, self.img_h)\n",
        "            self.imgs[i, :, :] = img\n",
        "            self.texts.append(text)\n",
        "    \n",
        "    def next_sample(self):\n",
        "        self.cur_index += 1\n",
        "        if self.cur_index >= self.n:\n",
        "            self.cur_index = 0\n",
        "            random.shuffle(self.indexes)\n",
        "        return self.imgs[self.indexes[self.cur_index]], self.texts[self.indexes[self.cur_index]]\n",
        "    \n",
        "    def next_batch(self):\n",
        "        while True:\n",
        "            # width and height are backwards from typical Keras convention\n",
        "            # because width is the time dimension when it gets fed into the RNN\n",
        "            X_data = np.ones([self.batch_size, self.img_w, self.img_h, 1])\n",
        "            Y_data = np.zeros([self.batch_size, self.max_text_len])\n",
        "            input_length = np.ones((self.batch_size, 1)) * self.i_len\n",
        "            label_length = np.zeros((self.batch_size, 1))\n",
        "\n",
        "            for i in range(self.batch_size):\n",
        "                img, text = self.next_sample()\n",
        "                img = img.T\n",
        "                img = np.expand_dims(img, -1)\n",
        "                X_data[i] = img\n",
        "                Y_data[i, :len(text)] = text_to_labels(text)\n",
        "                label_length[i] = len(text)\n",
        "                \n",
        "            inputs = [X_data, Y_data, input_length, label_length]\n",
        "            outputs = np.zeros([self.batch_size])\n",
        "            yield (inputs, outputs)"
      ],
      "execution_count": 21,
      "outputs": []
    },
    {
      "cell_type": "code",
      "metadata": {
        "id": "XtInpDe2vQwZ"
      },
      "source": [
        "batch_size = 64\n",
        "input_length = 30\n",
        "max_text_len = 16\n",
        "img_w = 128\n",
        "img_h = 64"
      ],
      "execution_count": 22,
      "outputs": []
    },
    {
      "cell_type": "code",
      "metadata": {
        "id": "Lbor-GmnvXtt"
      },
      "source": [
        "train_data = TextImageGenerator(train_files, img_w, img_h, batch_size, input_length, max_text_len)\n",
        "train_data.build_data()"
      ],
      "execution_count": 23,
      "outputs": []
    },
    {
      "cell_type": "code",
      "metadata": {
        "id": "CdjjJsfKy5iC"
      },
      "source": [
        "validation_data = TextImageGenerator(valid_files, img_w, img_h, batch_size, input_length, max_text_len)\n",
        "validation_data.build_data()"
      ],
      "execution_count": 24,
      "outputs": []
    },
    {
      "cell_type": "code",
      "metadata": {
        "colab": {
          "base_uri": "https://localhost:8080/"
        },
        "id": "EWISLPfyvdMu",
        "outputId": "4c76b797-7a79-42ef-9298-c9611a04e35e"
      },
      "source": [
        "train_data.imgs.shape"
      ],
      "execution_count": 25,
      "outputs": [
        {
          "output_type": "execute_result",
          "data": {
            "text/plain": [
              "(8730, 64, 128)"
            ]
          },
          "metadata": {},
          "execution_count": 25
        }
      ]
    },
    {
      "cell_type": "markdown",
      "metadata": {
        "id": "IVHrHQX74hzR"
      },
      "source": [
        "# Creating Model"
      ]
    },
    {
      "cell_type": "code",
      "metadata": {
        "colab": {
          "base_uri": "https://localhost:8080/",
          "height": 35
        },
        "id": "uCN8JM7NvnEB",
        "outputId": "b5b22ea7-d618-4d00-f690-623b8afd201b"
      },
      "source": [
        "from tensorflow.keras import layers\n",
        "from tensorflow.keras import Model\n",
        "from tensorflow.keras import backend as tf_keras_backend\n",
        "\n",
        "tf_keras_backend.set_image_data_format('channels_last')\n",
        "tf_keras_backend.image_data_format()"
      ],
      "execution_count": 26,
      "outputs": [
        {
          "output_type": "execute_result",
          "data": {
            "application/vnd.google.colaboratory.intrinsic+json": {
              "type": "string"
            },
            "text/plain": [
              "'channels_last'"
            ]
          },
          "metadata": {},
          "execution_count": 26
        }
      ]
    },
    {
      "cell_type": "code",
      "metadata": {
        "id": "PGZzdl2XvtPV"
      },
      "source": [
        "input_data = layers.Input(name='the_input', shape=(128,64,1), dtype='float32')  # (None, 128, 64, 1)\n",
        "\n",
        "# Convolution layer (VGG)\n",
        "iam_layers = layers.Conv2D(64, (3, 3), padding='same', name='conv1', kernel_initializer='he_normal')(input_data)\n",
        "iam_layers = layers.BatchNormalization()(iam_layers)\n",
        "iam_layers = layers.Activation('relu')(iam_layers)\n",
        "iam_layers = layers.MaxPooling2D(pool_size=(2, 2), name='max1')(iam_layers)  # (None,64, 32, 64)\n",
        "\n",
        "iam_layers = layers.Conv2D(128, (3, 3), padding='same', name='conv2', kernel_initializer='he_normal')(iam_layers)\n",
        "iam_layers = layers.BatchNormalization()(iam_layers)\n",
        "iam_layers = layers.Activation('relu')(iam_layers)\n",
        "iam_layers = layers.MaxPooling2D(pool_size=(2, 2), name='max2')(iam_layers)\n",
        "\n",
        "iam_layers = layers.Conv2D(256, (3, 3), padding='same', name='conv3', kernel_initializer='he_normal')(iam_layers)\n",
        "iam_layers = layers.BatchNormalization()(iam_layers)\n",
        "iam_layers = layers.Activation('relu')(iam_layers)\n",
        "iam_layers = layers.Conv2D(256, (3, 3), padding='same', name='conv4', kernel_initializer='he_normal')(iam_layers)\n",
        "iam_layers = layers.BatchNormalization()(iam_layers)\n",
        "iam_layers = layers.Activation('relu')(iam_layers)\n",
        "iam_layers = layers.MaxPooling2D(pool_size=(1, 2), name='max3')(iam_layers)  # (None, 32, 8, 256)\n",
        "\n",
        "iam_layers = layers.Conv2D(512, (3, 3), padding='same', name='conv5', kernel_initializer='he_normal')(iam_layers)\n",
        "iam_layers = layers.BatchNormalization()(iam_layers)\n",
        "iam_layers = layers.Activation('relu')(iam_layers)\n",
        "iam_layers = layers.Conv2D(512, (3, 3), padding='same', name='conv6')(iam_layers)\n",
        "iam_layers = layers.BatchNormalization()(iam_layers)\n",
        "iam_layers = layers.Activation('relu')(iam_layers)\n",
        "iam_layers = layers.MaxPooling2D(pool_size=(1, 2), name='max4')(iam_layers)\n",
        "\n",
        "iam_layers = layers.Conv2D(512, (2, 2), padding='same', kernel_initializer='he_normal', name='con7')(iam_layers)\n",
        "iam_layers = layers.BatchNormalization()(iam_layers)\n",
        "iam_layers = layers.Activation('relu')(iam_layers)\n",
        "\n",
        "# CNN to RNN\n",
        "iam_layers = layers.Reshape(target_shape=((32, 2048)), name='reshape')(iam_layers)\n",
        "iam_layers = layers.Dense(64, activation='relu', kernel_initializer='he_normal', name='dense1')(iam_layers)\n",
        "\n",
        "# RNN layer\n",
        "# layer ten\n",
        "iam_layers = layers.Bidirectional(layers.LSTM(units=256, return_sequences=True))(iam_layers)\n",
        "# layer nine\n",
        "iam_layers = layers.Bidirectional(layers.LSTM(units=256, return_sequences=True))(iam_layers)\n",
        "iam_layers = layers.BatchNormalization()(iam_layers)\n",
        "\n",
        "# transforms RNN output to character activations:\n",
        "iam_layers = layers.Dense(80, kernel_initializer='he_normal', name='dense2')(iam_layers)\n",
        "iam_outputs = layers.Activation('softmax', name='softmax')(iam_layers)\n",
        "\n",
        "labels = layers.Input(name='the_labels', shape=[16], dtype='float32')\n",
        "input_length = layers.Input(name='input_length', shape=[1], dtype='int64')\n",
        "label_length = layers.Input(name='label_length', shape=[1], dtype='int64')\n",
        "\n",
        "\n",
        "def ctc_lambda_func(args):\n",
        "    y_pred, labels, input_length, label_length = args\n",
        "    # the 2 is critical here since the first couple outputs of the RNN\n",
        "    # tend to be garbage:\n",
        "    y_pred = y_pred[:, 2:, :]\n",
        "    return tf_keras_backend.ctc_batch_cost(labels, y_pred, input_length, label_length)\n",
        "\n",
        "\n",
        "# loss function\n",
        "loss_out = layers.Lambda(ctc_lambda_func, output_shape=(1,), name='ctc')([iam_outputs, labels, input_length, label_length])\n",
        "\n",
        "model = Model(inputs=[input_data, labels, input_length, label_length], outputs=loss_out)\n",
        "model.summary()"
      ],
      "execution_count": null,
      "outputs": []
    },
    {
      "cell_type": "code",
      "metadata": {
        "id": "zSFZfrG1wJbF"
      },
      "source": [
        "model.compile(loss={'ctc': lambda y_true, y_pred: y_pred}, optimizer = 'adam')"
      ],
      "execution_count": 28,
      "outputs": []
    },
    {
      "cell_type": "code",
      "metadata": {
        "id": "La69U1F7xmZU"
      },
      "source": [
        "import time\n",
        "from tensorflow.keras.callbacks import Callback\n",
        "\n",
        "class EpochTimeHistory(Callback):\n",
        "    \"\"\"\n",
        "    a custom callback to print the time(in minutes, to console) each epoch took during.\n",
        "    \"\"\"\n",
        "    def on_train_begin(self, logs={}):\n",
        "        self.train_epoch_times = []\n",
        "        self.valid_epoch_times = []\n",
        "\n",
        "    def on_epoch_begin(self, epoch, logs={}):\n",
        "        self.epoch_time_start = time.time()\n",
        "\n",
        "    def on_epoch_end(self, epoch, logs={}):\n",
        "        cur_epoch_time = round((time.time() - self.epoch_time_start)/60, 4)\n",
        "        self.train_epoch_times.append(cur_epoch_time)\n",
        "        print(\" ;epoch {0} took {1} minutes.\".format(epoch+1, cur_epoch_time))\n",
        "\n",
        "\n",
        "    def on_test_begin(self, logs={}):\n",
        "        self.test_time_start = time.time()\n",
        "\n",
        "    def on_test_end(self, logs={}):\n",
        "        cur_test_time = round((time.time() - self.test_time_start)/60, 4)\n",
        "        self.valid_epoch_times.append(cur_test_time)\n",
        "        print(\" ;validation took {} minutes.\".format(cur_test_time))"
      ],
      "execution_count": 29,
      "outputs": []
    },
    {
      "cell_type": "code",
      "metadata": {
        "id": "FhKce78axsQk"
      },
      "source": [
        "from tensorflow.keras.callbacks import ModelCheckpoint, EarlyStopping\n",
        "\n",
        "model_save_cb = ModelCheckpoint(filepath='/content/drive/My Drive/Colab Notebooks/OCR on IAM/data/two-weights-epoch{epoch:02d}-val_loss{val_loss:.3f}.h5',\n",
        "                                verbose=1, save_best_only=False, monitor='val_loss', save_weights_only=False)\n",
        "earlystop = EarlyStopping(monitor='val_loss', min_delta=0, patience=4, verbose=0, mode='min')\n",
        "# reduce_learning_rate_cb = ReduceLROnPlateau(monitor='loss', factor=0.1, patience=2, cooldown=2, min_lr=0.00001, verbose=1)\n",
        "epoch_times = EpochTimeHistory()"
      ],
      "execution_count": 30,
      "outputs": []
    },
    {
      "cell_type": "code",
      "metadata": {
        "colab": {
          "base_uri": "https://localhost:8080/"
        },
        "id": "Vu9eej7ZzCm4",
        "outputId": "18e18698-0fda-4ca1-8eed-026ec95c093d"
      },
      "source": [
        "batch_size, train_data.n, validation_data.n"
      ],
      "execution_count": 31,
      "outputs": [
        {
          "output_type": "execute_result",
          "data": {
            "text/plain": [
              "(64, 8730, 432)"
            ]
          },
          "metadata": {},
          "execution_count": 31
        }
      ]
    },
    {
      "cell_type": "code",
      "metadata": {
        "id": "hHCXHSexy84o"
      },
      "source": [
        "history_model_3 = model.fit(train_data.next_batch(),\n",
        "                            validation_data=validation_data.next_batch(),\n",
        "                            steps_per_epoch=train_data.n/batch_size,\n",
        "                            validation_steps=validation_data.n // batch_size,\n",
        "                            epochs=3,\n",
        "                            callbacks=[earlystop, model_save_cb, epoch_times])"
      ],
      "execution_count": null,
      "outputs": []
    },
    {
      "cell_type": "markdown",
      "metadata": {
        "id": "bJpsy95F4s5Q"
      },
      "source": [
        "# Testing model"
      ]
    },
    {
      "cell_type": "code",
      "metadata": {
        "id": "JIArMuNp2KGC"
      },
      "source": [
        "iam_model_pred = None\n",
        "iam_model_pred = Model(inputs=input_data, outputs=iam_outputs)\n",
        "iam_model_pred.summary()"
      ],
      "execution_count": null,
      "outputs": []
    },
    {
      "cell_type": "code",
      "metadata": {
        "id": "oGNkcC-b2Uyz"
      },
      "source": [
        "iam_model_pred.load_weights(filepath='/content/drive/My Drive/Colab Notebooks/OCR on IAM/data/lstm-weights-epoch24-val_loss0.242.h5')"
      ],
      "execution_count": 82,
      "outputs": []
    },
    {
      "cell_type": "code",
      "metadata": {
        "colab": {
          "base_uri": "https://localhost:8080/"
        },
        "id": "m_N4KTgf23Pb",
        "outputId": "49833eda-4e9d-4861-a31d-ecb73fa5f4db"
      },
      "source": [
        "i=76\n",
        "test_image_processed = preprocess(path=train_files[i][0], img_w=128, img_h=64)\n",
        "test_image_processed=test_image_processed.T\n",
        "\n",
        "test_image_processed=[test_image_processed]\n",
        "test_image_processed = np.array(test_image_processed)\n",
        "\n",
        "n=test_image_processed.shape[0]\n",
        "n"
      ],
      "execution_count": 83,
      "outputs": [
        {
          "output_type": "execute_result",
          "data": {
            "text/plain": [
              "1"
            ]
          },
          "metadata": {},
          "execution_count": 83
        }
      ]
    },
    {
      "cell_type": "code",
      "metadata": {
        "colab": {
          "base_uri": "https://localhost:8080/",
          "height": 235
        },
        "id": "w0UJClCx7fpI",
        "outputId": "41a7b200-60ab-42c9-853f-1a2324e3f143"
      },
      "source": [
        "plt.imshow(preprocess(path=train_files[i][0], img_w=128, img_h=64))"
      ],
      "execution_count": 84,
      "outputs": [
        {
          "output_type": "execute_result",
          "data": {
            "text/plain": [
              "<matplotlib.image.AxesImage at 0x7fd739b5ab90>"
            ]
          },
          "metadata": {},
          "execution_count": 84
        },
        {
          "output_type": "display_data",
          "data": {
            "image/png": "[encoded data removed]",
            "text/plain": [
              "<Figure size 432x288 with 1 Axes>"
            ]
          },
          "metadata": {
            "needs_background": "light"
          }
        }
      ]
    },
    {
      "cell_type": "code",
      "metadata": {
        "colab": {
          "base_uri": "https://localhost:8080/"
        },
        "id": "dv4wmoU26AeT",
        "outputId": "8c9a2326-a94b-4595-9f38-1b7639ed3d74"
      },
      "source": [
        "test_image_processed = test_image_processed.reshape(n, 128, 64, 1)\n",
        "test_image_processed.shape"
      ],
      "execution_count": 85,
      "outputs": [
        {
          "output_type": "execute_result",
          "data": {
            "text/plain": [
              "(1, 128, 64, 1)"
            ]
          },
          "metadata": {},
          "execution_count": 85
        }
      ]
    },
    {
      "cell_type": "code",
      "metadata": {
        "colab": {
          "base_uri": "https://localhost:8080/"
        },
        "id": "Vv2EGGkr6WGJ",
        "outputId": "dc8d44f1-e94a-448a-dc8a-98f57288f755"
      },
      "source": [
        "test_predictions_encoded = iam_model_pred.predict(x=test_image_processed)\n",
        "test_predictions_encoded.shape"
      ],
      "execution_count": 86,
      "outputs": [
        {
          "output_type": "execute_result",
          "data": {
            "text/plain": [
              "(1, 32, 80)"
            ]
          },
          "metadata": {},
          "execution_count": 86
        }
      ]
    },
    {
      "cell_type": "code",
      "metadata": {
        "colab": {
          "base_uri": "https://localhost:8080/"
        },
        "id": "36Cu_cWs6fjN",
        "outputId": "9ae411e1-3a97-4fc1-9c7f-756c9421f93d"
      },
      "source": [
        "test_predictions_decoded = tf_keras_backend.get_value(tf_keras_backend.ctc_decode(test_predictions_encoded,\n",
        "                                                                                  input_length = np.ones(test_predictions_encoded.shape[0])*test_predictions_encoded.shape[1],\n",
        "                                                                                  greedy=True)[0][0])\n",
        "test_predictions_decoded.shape"
      ],
      "execution_count": 87,
      "outputs": [
        {
          "output_type": "execute_result",
          "data": {
            "text/plain": [
              "(1, 32)"
            ]
          },
          "metadata": {},
          "execution_count": 87
        }
      ]
    },
    {
      "cell_type": "code",
      "metadata": {
        "id": "5WRcYt7T6osy"
      },
      "source": [
        "def numbered_array_to_text(numbered_array):\n",
        "    numbered_array = numbered_array[numbered_array != -1]\n",
        "    return \"\".join(letters[j] for j in numbered_array)"
      ],
      "execution_count": 89,
      "outputs": []
    },
    {
      "cell_type": "code",
      "metadata": {
        "colab": {
          "base_uri": "https://localhost:8080/"
        },
        "id": "S81TFMKl8zXM",
        "outputId": "274a7e84-b9db-497b-83a9-7ef86caf4348"
      },
      "source": [
        "print(test_predictions_decoded)"
      ],
      "execution_count": 88,
      "outputs": [
        {
          "output_type": "stream",
          "name": "stdout",
          "text": [
            "[[21 65 61 59 60 72 -1 -1 -1 -1 -1 -1 -1 -1 -1 -1 -1 -1 -1 -1 -1 -1 -1 -1\n",
            "  -1 -1 -1 -1 -1 -1 -1 -1]]\n"
          ]
        }
      ]
    },
    {
      "cell_type": "code",
      "metadata": {
        "colab": {
          "base_uri": "https://localhost:8080/",
          "height": 35
        },
        "id": "9XRxZAOY687_",
        "outputId": "79e9611a-368f-4073-b9ca-bb134977f692"
      },
      "source": [
        "numbered_array_to_text(test_predictions_decoded[0])"
      ],
      "execution_count": 90,
      "outputs": [
        {
          "output_type": "execute_result",
          "data": {
            "application/vnd.google.colaboratory.intrinsic+json": {
              "type": "string"
            },
            "text/plain": [
              "'7might'"
            ]
          },
          "metadata": {},
          "execution_count": 90
        }
      ]
    },
    {
      "cell_type": "code",
      "metadata": {
        "id": "LT8ngnAH7YjV"
      },
      "source": [
        ""
      ],
      "execution_count": null,
      "outputs": []
    }
  ]
}